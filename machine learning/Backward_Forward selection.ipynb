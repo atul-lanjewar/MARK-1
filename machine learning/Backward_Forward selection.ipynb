{
 "cells": [
  {
   "cell_type": "code",
   "execution_count": 1,
   "metadata": {
    "colab": {},
    "colab_type": "code",
    "id": "TCnHqG92_Guv"
   },
   "outputs": [],
   "source": [
    "import numpy as np\n",
    "import pandas as pd\n",
    "import matplotlib.pyplot as plt\n",
    "plt.style.use(['seaborn-dark-palette','dark_background'])\n",
    "import warnings\n",
    "warnings.filterwarnings(action = 'ignore')"
   ]
  },
  {
   "cell_type": "code",
   "execution_count": 2,
   "metadata": {
    "colab": {
     "base_uri": "https://localhost:8080/",
     "height": 326
    },
    "colab_type": "code",
    "executionInfo": {
     "elapsed": 4522,
     "status": "ok",
     "timestamp": 1573107360293,
     "user": {
      "displayName": "Sharoon Saxena",
      "photoUrl": "https://lh3.googleusercontent.com/a-/AAuE7mA06b2KEfgpAIC1tQCip2ka2KqXrCY2GfWW9Fww=s64",
      "userId": "01167841530696023488"
     },
     "user_tz": -330
    },
    "id": "enwfCDn9SUDm",
    "outputId": "4e4176bd-eee9-406f-d0fc-c495822e408c"
   },
   "outputs": [
    {
     "data": {
      "text/html": [
       "<div>\n",
       "<style scoped>\n",
       "    .dataframe tbody tr th:only-of-type {\n",
       "        vertical-align: middle;\n",
       "    }\n",
       "\n",
       "    .dataframe tbody tr th {\n",
       "        vertical-align: top;\n",
       "    }\n",
       "\n",
       "    .dataframe thead th {\n",
       "        text-align: right;\n",
       "    }\n",
       "</style>\n",
       "<table border=\"1\" class=\"dataframe\">\n",
       "  <thead>\n",
       "    <tr style=\"text-align: right;\">\n",
       "      <th></th>\n",
       "      <th>Sale_Price</th>\n",
       "      <th>No of Bedrooms</th>\n",
       "      <th>No of Bathrooms</th>\n",
       "      <th>Flat Area (in Sqft)</th>\n",
       "      <th>Lot Area (in Sqft)</th>\n",
       "      <th>No of Floors</th>\n",
       "      <th>No of Times Visited</th>\n",
       "      <th>Overall Grade</th>\n",
       "      <th>Area of the House from Basement (in Sqft)</th>\n",
       "      <th>Basement Area (in Sqft)</th>\n",
       "      <th>...</th>\n",
       "      <th>Waterfront_View_Yes</th>\n",
       "      <th>Zipcode_Group_Zipcode_Group_1</th>\n",
       "      <th>Zipcode_Group_Zipcode_Group_2</th>\n",
       "      <th>Zipcode_Group_Zipcode_Group_3</th>\n",
       "      <th>Zipcode_Group_Zipcode_Group_4</th>\n",
       "      <th>Zipcode_Group_Zipcode_Group_5</th>\n",
       "      <th>Zipcode_Group_Zipcode_Group_6</th>\n",
       "      <th>Zipcode_Group_Zipcode_Group_7</th>\n",
       "      <th>Zipcode_Group_Zipcode_Group_8</th>\n",
       "      <th>Zipcode_Group_Zipcode_Group_9</th>\n",
       "    </tr>\n",
       "  </thead>\n",
       "  <tbody>\n",
       "    <tr>\n",
       "      <th>0</th>\n",
       "      <td>221900.0</td>\n",
       "      <td>3</td>\n",
       "      <td>1.00</td>\n",
       "      <td>1180.0</td>\n",
       "      <td>5650.0</td>\n",
       "      <td>1.0</td>\n",
       "      <td>0</td>\n",
       "      <td>7</td>\n",
       "      <td>1180.0</td>\n",
       "      <td>0</td>\n",
       "      <td>...</td>\n",
       "      <td>0</td>\n",
       "      <td>0</td>\n",
       "      <td>0</td>\n",
       "      <td>0</td>\n",
       "      <td>0</td>\n",
       "      <td>0</td>\n",
       "      <td>0</td>\n",
       "      <td>0</td>\n",
       "      <td>0</td>\n",
       "      <td>0</td>\n",
       "    </tr>\n",
       "    <tr>\n",
       "      <th>1</th>\n",
       "      <td>538000.0</td>\n",
       "      <td>3</td>\n",
       "      <td>2.25</td>\n",
       "      <td>2570.0</td>\n",
       "      <td>7242.0</td>\n",
       "      <td>2.0</td>\n",
       "      <td>0</td>\n",
       "      <td>7</td>\n",
       "      <td>2170.0</td>\n",
       "      <td>400</td>\n",
       "      <td>...</td>\n",
       "      <td>0</td>\n",
       "      <td>0</td>\n",
       "      <td>1</td>\n",
       "      <td>0</td>\n",
       "      <td>0</td>\n",
       "      <td>0</td>\n",
       "      <td>0</td>\n",
       "      <td>0</td>\n",
       "      <td>0</td>\n",
       "      <td>0</td>\n",
       "    </tr>\n",
       "    <tr>\n",
       "      <th>2</th>\n",
       "      <td>180000.0</td>\n",
       "      <td>2</td>\n",
       "      <td>1.00</td>\n",
       "      <td>770.0</td>\n",
       "      <td>10000.0</td>\n",
       "      <td>1.0</td>\n",
       "      <td>0</td>\n",
       "      <td>6</td>\n",
       "      <td>770.0</td>\n",
       "      <td>0</td>\n",
       "      <td>...</td>\n",
       "      <td>0</td>\n",
       "      <td>0</td>\n",
       "      <td>1</td>\n",
       "      <td>0</td>\n",
       "      <td>0</td>\n",
       "      <td>0</td>\n",
       "      <td>0</td>\n",
       "      <td>0</td>\n",
       "      <td>0</td>\n",
       "      <td>0</td>\n",
       "    </tr>\n",
       "    <tr>\n",
       "      <th>3</th>\n",
       "      <td>604000.0</td>\n",
       "      <td>4</td>\n",
       "      <td>3.00</td>\n",
       "      <td>1960.0</td>\n",
       "      <td>5000.0</td>\n",
       "      <td>1.0</td>\n",
       "      <td>0</td>\n",
       "      <td>7</td>\n",
       "      <td>1050.0</td>\n",
       "      <td>910</td>\n",
       "      <td>...</td>\n",
       "      <td>0</td>\n",
       "      <td>0</td>\n",
       "      <td>0</td>\n",
       "      <td>1</td>\n",
       "      <td>0</td>\n",
       "      <td>0</td>\n",
       "      <td>0</td>\n",
       "      <td>0</td>\n",
       "      <td>0</td>\n",
       "      <td>0</td>\n",
       "    </tr>\n",
       "    <tr>\n",
       "      <th>4</th>\n",
       "      <td>510000.0</td>\n",
       "      <td>3</td>\n",
       "      <td>2.00</td>\n",
       "      <td>1680.0</td>\n",
       "      <td>8080.0</td>\n",
       "      <td>1.0</td>\n",
       "      <td>0</td>\n",
       "      <td>8</td>\n",
       "      <td>1680.0</td>\n",
       "      <td>0</td>\n",
       "      <td>...</td>\n",
       "      <td>0</td>\n",
       "      <td>0</td>\n",
       "      <td>0</td>\n",
       "      <td>0</td>\n",
       "      <td>1</td>\n",
       "      <td>0</td>\n",
       "      <td>0</td>\n",
       "      <td>0</td>\n",
       "      <td>0</td>\n",
       "      <td>0</td>\n",
       "    </tr>\n",
       "  </tbody>\n",
       "</table>\n",
       "<p>5 rows × 31 columns</p>\n",
       "</div>"
      ],
      "text/plain": [
       "   Sale_Price  No of Bedrooms  No of Bathrooms  Flat Area (in Sqft)  \\\n",
       "0    221900.0               3             1.00               1180.0   \n",
       "1    538000.0               3             2.25               2570.0   \n",
       "2    180000.0               2             1.00                770.0   \n",
       "3    604000.0               4             3.00               1960.0   \n",
       "4    510000.0               3             2.00               1680.0   \n",
       "\n",
       "   Lot Area (in Sqft)  No of Floors  No of Times Visited  Overall Grade  \\\n",
       "0              5650.0           1.0                    0              7   \n",
       "1              7242.0           2.0                    0              7   \n",
       "2             10000.0           1.0                    0              6   \n",
       "3              5000.0           1.0                    0              7   \n",
       "4              8080.0           1.0                    0              8   \n",
       "\n",
       "   Area of the House from Basement (in Sqft)  Basement Area (in Sqft)  ...  \\\n",
       "0                                     1180.0                        0  ...   \n",
       "1                                     2170.0                      400  ...   \n",
       "2                                      770.0                        0  ...   \n",
       "3                                     1050.0                      910  ...   \n",
       "4                                     1680.0                        0  ...   \n",
       "\n",
       "   Waterfront_View_Yes  Zipcode_Group_Zipcode_Group_1  \\\n",
       "0                    0                              0   \n",
       "1                    0                              0   \n",
       "2                    0                              0   \n",
       "3                    0                              0   \n",
       "4                    0                              0   \n",
       "\n",
       "   Zipcode_Group_Zipcode_Group_2  Zipcode_Group_Zipcode_Group_3  \\\n",
       "0                              0                              0   \n",
       "1                              1                              0   \n",
       "2                              1                              0   \n",
       "3                              0                              1   \n",
       "4                              0                              0   \n",
       "\n",
       "   Zipcode_Group_Zipcode_Group_4  Zipcode_Group_Zipcode_Group_5  \\\n",
       "0                              0                              0   \n",
       "1                              0                              0   \n",
       "2                              0                              0   \n",
       "3                              0                              0   \n",
       "4                              1                              0   \n",
       "\n",
       "   Zipcode_Group_Zipcode_Group_6  Zipcode_Group_Zipcode_Group_7  \\\n",
       "0                              0                              0   \n",
       "1                              0                              0   \n",
       "2                              0                              0   \n",
       "3                              0                              0   \n",
       "4                              0                              0   \n",
       "\n",
       "   Zipcode_Group_Zipcode_Group_8  Zipcode_Group_Zipcode_Group_9  \n",
       "0                              0                              0  \n",
       "1                              0                              0  \n",
       "2                              0                              0  \n",
       "3                              0                              0  \n",
       "4                              0                              0  \n",
       "\n",
       "[5 rows x 31 columns]"
      ]
     },
     "execution_count": 2,
     "metadata": {},
     "output_type": "execute_result"
    }
   ],
   "source": [
    "data = pd.read_csv('Transformed_Housing_Data2.csv')\n",
    "data.head()"
   ]
  },
  {
   "cell_type": "markdown",
   "metadata": {
    "colab_type": "text",
    "id": "xvkHzrYordIB"
   },
   "source": [
    "## Scaling the dataset"
   ]
  },
  {
   "cell_type": "code",
   "execution_count": 3,
   "metadata": {
    "colab": {
     "base_uri": "https://localhost:8080/",
     "height": 326
    },
    "colab_type": "code",
    "executionInfo": {
     "elapsed": 3660,
     "status": "ok",
     "timestamp": 1573107360294,
     "user": {
      "displayName": "Sharoon Saxena",
      "photoUrl": "https://lh3.googleusercontent.com/a-/AAuE7mA06b2KEfgpAIC1tQCip2ka2KqXrCY2GfWW9Fww=s64",
      "userId": "01167841530696023488"
     },
     "user_tz": -330
    },
    "id": "DdK6-a5wkn0q",
    "outputId": "f0ecad29-ae1b-44e9-881d-774688dea9ab"
   },
   "outputs": [
    {
     "data": {
      "text/html": [
       "<div>\n",
       "<style scoped>\n",
       "    .dataframe tbody tr th:only-of-type {\n",
       "        vertical-align: middle;\n",
       "    }\n",
       "\n",
       "    .dataframe tbody tr th {\n",
       "        vertical-align: top;\n",
       "    }\n",
       "\n",
       "    .dataframe thead th {\n",
       "        text-align: right;\n",
       "    }\n",
       "</style>\n",
       "<table border=\"1\" class=\"dataframe\">\n",
       "  <thead>\n",
       "    <tr style=\"text-align: right;\">\n",
       "      <th></th>\n",
       "      <th>No of Bedrooms</th>\n",
       "      <th>No of Bathrooms</th>\n",
       "      <th>Flat Area (in Sqft)</th>\n",
       "      <th>Lot Area (in Sqft)</th>\n",
       "      <th>No of Floors</th>\n",
       "      <th>No of Times Visited</th>\n",
       "      <th>Overall Grade</th>\n",
       "      <th>Area of the House from Basement (in Sqft)</th>\n",
       "      <th>Basement Area (in Sqft)</th>\n",
       "      <th>Age of House (in Years)</th>\n",
       "      <th>...</th>\n",
       "      <th>Waterfront_View_Yes</th>\n",
       "      <th>Zipcode_Group_Zipcode_Group_1</th>\n",
       "      <th>Zipcode_Group_Zipcode_Group_2</th>\n",
       "      <th>Zipcode_Group_Zipcode_Group_3</th>\n",
       "      <th>Zipcode_Group_Zipcode_Group_4</th>\n",
       "      <th>Zipcode_Group_Zipcode_Group_5</th>\n",
       "      <th>Zipcode_Group_Zipcode_Group_6</th>\n",
       "      <th>Zipcode_Group_Zipcode_Group_7</th>\n",
       "      <th>Zipcode_Group_Zipcode_Group_8</th>\n",
       "      <th>Zipcode_Group_Zipcode_Group_9</th>\n",
       "    </tr>\n",
       "  </thead>\n",
       "  <tbody>\n",
       "    <tr>\n",
       "      <th>0</th>\n",
       "      <td>-0.398724</td>\n",
       "      <td>-1.447526</td>\n",
       "      <td>-0.979905</td>\n",
       "      <td>-0.228291</td>\n",
       "      <td>-0.915389</td>\n",
       "      <td>-0.30579</td>\n",
       "      <td>-0.563993</td>\n",
       "      <td>-0.734722</td>\n",
       "      <td>-0.658697</td>\n",
       "      <td>0.544734</td>\n",
       "      <td>...</td>\n",
       "      <td>-0.087181</td>\n",
       "      <td>-0.350481</td>\n",
       "      <td>-0.482158</td>\n",
       "      <td>-0.419600</td>\n",
       "      <td>-0.479094</td>\n",
       "      <td>-0.214086</td>\n",
       "      <td>-0.287712</td>\n",
       "      <td>-0.112274</td>\n",
       "      <td>-0.16885</td>\n",
       "      <td>-0.048158</td>\n",
       "    </tr>\n",
       "    <tr>\n",
       "      <th>1</th>\n",
       "      <td>-0.398724</td>\n",
       "      <td>0.175684</td>\n",
       "      <td>0.533718</td>\n",
       "      <td>-0.189858</td>\n",
       "      <td>0.936817</td>\n",
       "      <td>-0.30579</td>\n",
       "      <td>-0.563993</td>\n",
       "      <td>0.460990</td>\n",
       "      <td>0.245134</td>\n",
       "      <td>0.680915</td>\n",
       "      <td>...</td>\n",
       "      <td>-0.087181</td>\n",
       "      <td>-0.350481</td>\n",
       "      <td>2.074011</td>\n",
       "      <td>-0.419600</td>\n",
       "      <td>-0.479094</td>\n",
       "      <td>-0.214086</td>\n",
       "      <td>-0.287712</td>\n",
       "      <td>-0.112274</td>\n",
       "      <td>-0.16885</td>\n",
       "      <td>-0.048158</td>\n",
       "    </tr>\n",
       "    <tr>\n",
       "      <th>2</th>\n",
       "      <td>-1.474115</td>\n",
       "      <td>-1.447526</td>\n",
       "      <td>-1.426369</td>\n",
       "      <td>-0.123276</td>\n",
       "      <td>-0.915389</td>\n",
       "      <td>-0.30579</td>\n",
       "      <td>-1.468566</td>\n",
       "      <td>-1.229916</td>\n",
       "      <td>-0.658697</td>\n",
       "      <td>1.293731</td>\n",
       "      <td>...</td>\n",
       "      <td>-0.087181</td>\n",
       "      <td>-0.350481</td>\n",
       "      <td>2.074011</td>\n",
       "      <td>-0.419600</td>\n",
       "      <td>-0.479094</td>\n",
       "      <td>-0.214086</td>\n",
       "      <td>-0.287712</td>\n",
       "      <td>-0.112274</td>\n",
       "      <td>-0.16885</td>\n",
       "      <td>-0.048158</td>\n",
       "    </tr>\n",
       "    <tr>\n",
       "      <th>3</th>\n",
       "      <td>0.676667</td>\n",
       "      <td>1.149611</td>\n",
       "      <td>-0.130534</td>\n",
       "      <td>-0.243983</td>\n",
       "      <td>-0.915389</td>\n",
       "      <td>-0.30579</td>\n",
       "      <td>-0.563993</td>\n",
       "      <td>-0.891735</td>\n",
       "      <td>1.397518</td>\n",
       "      <td>0.204281</td>\n",
       "      <td>...</td>\n",
       "      <td>-0.087181</td>\n",
       "      <td>-0.350481</td>\n",
       "      <td>-0.482158</td>\n",
       "      <td>2.383223</td>\n",
       "      <td>-0.479094</td>\n",
       "      <td>-0.214086</td>\n",
       "      <td>-0.287712</td>\n",
       "      <td>-0.112274</td>\n",
       "      <td>-0.16885</td>\n",
       "      <td>-0.048158</td>\n",
       "    </tr>\n",
       "    <tr>\n",
       "      <th>4</th>\n",
       "      <td>-0.398724</td>\n",
       "      <td>-0.148958</td>\n",
       "      <td>-0.435436</td>\n",
       "      <td>-0.169628</td>\n",
       "      <td>-0.915389</td>\n",
       "      <td>-0.30579</td>\n",
       "      <td>0.340581</td>\n",
       "      <td>-0.130827</td>\n",
       "      <td>-0.658697</td>\n",
       "      <td>-0.544715</td>\n",
       "      <td>...</td>\n",
       "      <td>-0.087181</td>\n",
       "      <td>-0.350481</td>\n",
       "      <td>-0.482158</td>\n",
       "      <td>-0.419600</td>\n",
       "      <td>2.087275</td>\n",
       "      <td>-0.214086</td>\n",
       "      <td>-0.287712</td>\n",
       "      <td>-0.112274</td>\n",
       "      <td>-0.16885</td>\n",
       "      <td>-0.048158</td>\n",
       "    </tr>\n",
       "  </tbody>\n",
       "</table>\n",
       "<p>5 rows × 30 columns</p>\n",
       "</div>"
      ],
      "text/plain": [
       "   No of Bedrooms  No of Bathrooms  Flat Area (in Sqft)  Lot Area (in Sqft)  \\\n",
       "0       -0.398724        -1.447526            -0.979905           -0.228291   \n",
       "1       -0.398724         0.175684             0.533718           -0.189858   \n",
       "2       -1.474115        -1.447526            -1.426369           -0.123276   \n",
       "3        0.676667         1.149611            -0.130534           -0.243983   \n",
       "4       -0.398724        -0.148958            -0.435436           -0.169628   \n",
       "\n",
       "   No of Floors  No of Times Visited  Overall Grade  \\\n",
       "0     -0.915389             -0.30579      -0.563993   \n",
       "1      0.936817             -0.30579      -0.563993   \n",
       "2     -0.915389             -0.30579      -1.468566   \n",
       "3     -0.915389             -0.30579      -0.563993   \n",
       "4     -0.915389             -0.30579       0.340581   \n",
       "\n",
       "   Area of the House from Basement (in Sqft)  Basement Area (in Sqft)  \\\n",
       "0                                  -0.734722                -0.658697   \n",
       "1                                   0.460990                 0.245134   \n",
       "2                                  -1.229916                -0.658697   \n",
       "3                                  -0.891735                 1.397518   \n",
       "4                                  -0.130827                -0.658697   \n",
       "\n",
       "   Age of House (in Years)  ...  Waterfront_View_Yes  \\\n",
       "0                 0.544734  ...            -0.087181   \n",
       "1                 0.680915  ...            -0.087181   \n",
       "2                 1.293731  ...            -0.087181   \n",
       "3                 0.204281  ...            -0.087181   \n",
       "4                -0.544715  ...            -0.087181   \n",
       "\n",
       "   Zipcode_Group_Zipcode_Group_1  Zipcode_Group_Zipcode_Group_2  \\\n",
       "0                      -0.350481                      -0.482158   \n",
       "1                      -0.350481                       2.074011   \n",
       "2                      -0.350481                       2.074011   \n",
       "3                      -0.350481                      -0.482158   \n",
       "4                      -0.350481                      -0.482158   \n",
       "\n",
       "   Zipcode_Group_Zipcode_Group_3  Zipcode_Group_Zipcode_Group_4  \\\n",
       "0                      -0.419600                      -0.479094   \n",
       "1                      -0.419600                      -0.479094   \n",
       "2                      -0.419600                      -0.479094   \n",
       "3                       2.383223                      -0.479094   \n",
       "4                      -0.419600                       2.087275   \n",
       "\n",
       "   Zipcode_Group_Zipcode_Group_5  Zipcode_Group_Zipcode_Group_6  \\\n",
       "0                      -0.214086                      -0.287712   \n",
       "1                      -0.214086                      -0.287712   \n",
       "2                      -0.214086                      -0.287712   \n",
       "3                      -0.214086                      -0.287712   \n",
       "4                      -0.214086                      -0.287712   \n",
       "\n",
       "   Zipcode_Group_Zipcode_Group_7  Zipcode_Group_Zipcode_Group_8  \\\n",
       "0                      -0.112274                       -0.16885   \n",
       "1                      -0.112274                       -0.16885   \n",
       "2                      -0.112274                       -0.16885   \n",
       "3                      -0.112274                       -0.16885   \n",
       "4                      -0.112274                       -0.16885   \n",
       "\n",
       "   Zipcode_Group_Zipcode_Group_9  \n",
       "0                      -0.048158  \n",
       "1                      -0.048158  \n",
       "2                      -0.048158  \n",
       "3                      -0.048158  \n",
       "4                      -0.048158  \n",
       "\n",
       "[5 rows x 30 columns]"
      ]
     },
     "execution_count": 3,
     "metadata": {},
     "output_type": "execute_result"
    }
   ],
   "source": [
    "from sklearn.preprocessing import StandardScaler\n",
    "scaler = StandardScaler()\n",
    "Y = data['Sale_Price']\n",
    "X = scaler.fit_transform(data.drop(columns = ['Sale_Price']))\n",
    "X = pd.DataFrame(data = X, columns = data.drop(columns = ['Sale_Price']).columns)\n",
    "X.head()"
   ]
  },
  {
   "cell_type": "markdown",
   "metadata": {
    "colab_type": "text",
    "id": "2OtqYbES1Ck-"
   },
   "source": [
    "## Train/Test set"
   ]
  },
  {
   "cell_type": "code",
   "execution_count": 4,
   "metadata": {
    "colab": {},
    "colab_type": "code",
    "id": "sDAXk48r0tRn"
   },
   "outputs": [],
   "source": [
    "X = data.drop(columns = [\"Sale_Price\"])\n",
    "Y = data['Sale_Price']"
   ]
  },
  {
   "cell_type": "code",
   "execution_count": 5,
   "metadata": {
    "colab": {
     "base_uri": "https://localhost:8080/",
     "height": 34
    },
    "colab_type": "code",
    "executionInfo": {
     "elapsed": 3327,
     "status": "ok",
     "timestamp": 1573107360847,
     "user": {
      "displayName": "Sharoon Saxena",
      "photoUrl": "https://lh3.googleusercontent.com/a-/AAuE7mA06b2KEfgpAIC1tQCip2ka2KqXrCY2GfWW9Fww=s64",
      "userId": "01167841530696023488"
     },
     "user_tz": -330
    },
    "id": "OnDOTUGt0tRp",
    "outputId": "18879f29-ef2a-4131-9aad-4a325e20abac"
   },
   "outputs": [
    {
     "data": {
      "text/plain": [
       "((15126, 30), (6483, 30), (15126,), (6483,))"
      ]
     },
     "execution_count": 5,
     "metadata": {},
     "output_type": "execute_result"
    }
   ],
   "source": [
    "from sklearn.model_selection import train_test_split\n",
    "x_train, x_test, y_train, y_test = train_test_split(X, Y, test_size = 0.3, random_state = 101)\n",
    "\n",
    "x_train.shape, x_test.shape, y_train.shape, y_test.shape"
   ]
  },
  {
   "cell_type": "markdown",
   "metadata": {
    "colab_type": "text",
    "id": "eUpoopDQsSNr"
   },
   "source": [
    "## Linear Regression"
   ]
  },
  {
   "cell_type": "code",
   "execution_count": 6,
   "metadata": {
    "colab": {
     "base_uri": "https://localhost:8080/",
     "height": 34
    },
    "colab_type": "code",
    "executionInfo": {
     "elapsed": 2520,
     "status": "ok",
     "timestamp": 1573107360848,
     "user": {
      "displayName": "Sharoon Saxena",
      "photoUrl": "https://lh3.googleusercontent.com/a-/AAuE7mA06b2KEfgpAIC1tQCip2ka2KqXrCY2GfWW9Fww=s64",
      "userId": "01167841530696023488"
     },
     "user_tz": -330
    },
    "id": "6Xq14RtASUDu",
    "outputId": "b72d367c-4f72-4c64-b3d6-80662af44a43"
   },
   "outputs": [
    {
     "data": {
      "text/plain": [
       "LinearRegression(normalize=True)"
      ]
     },
     "execution_count": 6,
     "metadata": {},
     "output_type": "execute_result"
    }
   ],
   "source": [
    "from sklearn.linear_model import LinearRegression\n",
    "lr = LinearRegression(normalize = True)\n",
    "lr.fit(x_train, y_train)"
   ]
  },
  {
   "cell_type": "code",
   "execution_count": 7,
   "metadata": {
    "colab": {},
    "colab_type": "code",
    "id": "Y0q4O7K0SUDw"
   },
   "outputs": [],
   "source": [
    "predictions = lr.predict(x_test)"
   ]
  },
  {
   "cell_type": "code",
   "execution_count": 8,
   "metadata": {
    "colab": {
     "base_uri": "https://localhost:8080/",
     "height": 34
    },
    "colab_type": "code",
    "executionInfo": {
     "elapsed": 2343,
     "status": "ok",
     "timestamp": 1573107360851,
     "user": {
      "displayName": "Sharoon Saxena",
      "photoUrl": "https://lh3.googleusercontent.com/a-/AAuE7mA06b2KEfgpAIC1tQCip2ka2KqXrCY2GfWW9Fww=s64",
      "userId": "01167841530696023488"
     },
     "user_tz": -330
    },
    "id": "-w3xX9opSUDx",
    "outputId": "112bba16-9aaa-41a6-dcb4-b28da8c71312"
   },
   "outputs": [
    {
     "data": {
      "text/plain": [
       "0.846235554246878"
      ]
     },
     "execution_count": 8,
     "metadata": {},
     "output_type": "execute_result"
    }
   ],
   "source": [
    "lr.score(x_test, y_test)"
   ]
  },
  {
   "cell_type": "markdown",
   "metadata": {
    "colab_type": "text",
    "id": "MiR4wLQQRtXx"
   },
   "source": [
    "# Forward selection"
   ]
  },
  {
   "cell_type": "code",
   "execution_count": 9,
   "metadata": {
    "colab": {},
    "colab_type": "code",
    "id": "eZY8G0sxIuWW"
   },
   "outputs": [],
   "source": [
    "def adj_r2( m ,data_y, predictions):\n",
    "  '''\n",
    "  m : number of independent variables\n",
    "  data_y : target variable\n",
    "  predictions : prediction of the model to be evaluated\n",
    "\n",
    "  Returns: Adjusted R2\n",
    "  '''\n",
    "\n",
    "  from sklearn.metrics import r2_score\n",
    "  R = r2_score(data_y, predictions)\n",
    "  n = len(data_y)\n",
    "  adj_R = 1 - ((1-R)*(n-1))/(n-m-1)\n",
    "  return adj_R"
   ]
  },
  {
   "cell_type": "code",
   "execution_count": 10,
   "metadata": {
    "colab": {},
    "colab_type": "code",
    "id": "QhC92CJBGfEo"
   },
   "outputs": [],
   "source": [
    "def return_r2(X, Y, model):\n",
    "  '''\n",
    "  X : independent variables\n",
    "  Y : target variable\n",
    "  model : predictive model\n",
    "\n",
    "  Returns: Adjusted R2 corresponding to the model\n",
    "  '''\n",
    "  model.fit(X, Y)\n",
    "  pred = model.predict(X)\n",
    "  m = len(X.columns)\n",
    "  r2 = adj_r2(m, Y, pred)\n",
    "  return r2"
   ]
  },
  {
   "cell_type": "code",
   "execution_count": 11,
   "metadata": {
    "colab": {},
    "colab_type": "code",
    "id": "uY2wMFsCOE9b"
   },
   "outputs": [],
   "source": [
    "def forward_selection(model, X, Y, max_features):\n",
    "  '''\n",
    "  X : independent variables\n",
    "  Y : target variable\n",
    "  model : predictive model\n",
    "  max_features : selects best feature upto max_features value\n",
    "\n",
    "  Returns: \n",
    "  Rmax : Adjusted R2 of the final model\n",
    "  history : list of Rmax at every new independent variable added to the model\n",
    "  x[f_col] : best features upto max_features\n",
    "  '''\n",
    "  \n",
    "  f_col = []\n",
    "  history = []\n",
    "  \n",
    "  for i in range(max_features):\n",
    "\n",
    "    f_col.append('blank')\n",
    "    tmp = f_col[:]\n",
    "    Rmax = -1\n",
    "\n",
    "    for var in X.columns:\n",
    "      tmp[-1] = var\n",
    "      r2 = return_r2( X[tmp] , Y, model)\n",
    "      if r2 >= Rmax:\n",
    "        Rmax = r2\n",
    "        f_col[-1] = var\n",
    "        elim = var\n",
    "  \n",
    "    print(\"Selected\",f_col[-1],\"with new r2 =\",Rmax)\n",
    "    history.append(Rmax)\n",
    "\n",
    "  return Rmax, history, X[f_col]"
   ]
  },
  {
   "cell_type": "code",
   "execution_count": 12,
   "metadata": {
    "colab": {
     "base_uri": "https://localhost:8080/",
     "height": 102
    },
    "colab_type": "code",
    "executionInfo": {
     "elapsed": 3248,
     "status": "ok",
     "timestamp": 1573107362073,
     "user": {
      "displayName": "Sharoon Saxena",
      "photoUrl": "https://lh3.googleusercontent.com/a-/AAuE7mA06b2KEfgpAIC1tQCip2ka2KqXrCY2GfWW9Fww=s64",
      "userId": "01167841530696023488"
     },
     "user_tz": -330
    },
    "id": "5riQeyi5O37B",
    "outputId": "1a580d8c-9c58-4c6a-ff2c-ca3822153a5f"
   },
   "outputs": [
    {
     "name": "stdout",
     "output_type": "stream",
     "text": [
      "Selected Flat Area (in Sqft) with new r2 = 0.4825106645259518\n",
      "Selected Latitude with new r2 = 0.6158682713046579\n",
      "Selected Overall Grade with new r2 = 0.6693250844517911\n",
      "Selected Age of House (in Years) with new r2 = 0.7101671809322649\n",
      "Selected Zipcode_Group_Zipcode_Group_8 with new r2 = 0.7359659801896961\n"
     ]
    }
   ],
   "source": [
    "from sklearn.linear_model import LinearRegression\n",
    "lr = LinearRegression(normalize = True)\n",
    "\n",
    "score, history, sel_data = forward_selection(lr, x_train, y_train, 5)"
   ]
  },
  {
   "cell_type": "code",
   "execution_count": 13,
   "metadata": {
    "colab": {
     "base_uri": "https://localhost:8080/",
     "height": 68
    },
    "colab_type": "code",
    "executionInfo": {
     "elapsed": 3185,
     "status": "ok",
     "timestamp": 1573107362074,
     "user": {
      "displayName": "Sharoon Saxena",
      "photoUrl": "https://lh3.googleusercontent.com/a-/AAuE7mA06b2KEfgpAIC1tQCip2ka2KqXrCY2GfWW9Fww=s64",
      "userId": "01167841530696023488"
     },
     "user_tz": -330
    },
    "id": "iAgnZOvqVIha",
    "outputId": "eb5a2700-8c44-4403-956e-8a28ef3e9c51"
   },
   "outputs": [
    {
     "data": {
      "text/plain": [
       "Index(['Flat Area (in Sqft)', 'Latitude', 'Overall Grade',\n",
       "       'Age of House (in Years)', 'Zipcode_Group_Zipcode_Group_8'],\n",
       "      dtype='object')"
      ]
     },
     "execution_count": 13,
     "metadata": {},
     "output_type": "execute_result"
    }
   ],
   "source": [
    "sel_data.columns"
   ]
  },
  {
   "cell_type": "code",
   "execution_count": 14,
   "metadata": {
    "colab": {
     "base_uri": "https://localhost:8080/",
     "height": 34
    },
    "colab_type": "code",
    "executionInfo": {
     "elapsed": 3123,
     "status": "ok",
     "timestamp": 1573107362075,
     "user": {
      "displayName": "Sharoon Saxena",
      "photoUrl": "https://lh3.googleusercontent.com/a-/AAuE7mA06b2KEfgpAIC1tQCip2ka2KqXrCY2GfWW9Fww=s64",
      "userId": "01167841530696023488"
     },
     "user_tz": -330
    },
    "id": "S4_VPDqdVFxn",
    "outputId": "85f3340b-d9e7-40d4-f781-2fb5ff32ecd0"
   },
   "outputs": [
    {
     "data": {
      "text/plain": [
       "0.7359659801896961"
      ]
     },
     "execution_count": 14,
     "metadata": {},
     "output_type": "execute_result"
    }
   ],
   "source": [
    "score"
   ]
  },
  {
   "cell_type": "markdown",
   "metadata": {
    "colab_type": "text",
    "id": "pMjk2mHbVTKS"
   },
   "source": [
    "# Backward Elimination"
   ]
  },
  {
   "cell_type": "code",
   "execution_count": 15,
   "metadata": {
    "colab": {},
    "colab_type": "code",
    "id": "qmqkdLxXDNgU"
   },
   "outputs": [],
   "source": [
    "def adj_r2( m=0, data_y=0, predictions=0):\n",
    "  '''\n",
    "  m : number of independent variables\n",
    "  data_y : target variable\n",
    "  predictions : prediction of the model to be evaluated\n",
    "\n",
    "  Returns: Adjusted R2\n",
    "  '''\n",
    "\n",
    "  from sklearn.metrics import r2_score\n",
    "  R = r2_score(data_y, predictions)\n",
    "  n = len(data_y)\n",
    "  adj_R = 1 - ((1-R)*(n-1))/(n-m-1)\n",
    "  return adj_R"
   ]
  },
  {
   "cell_type": "code",
   "execution_count": 16,
   "metadata": {
    "colab": {},
    "colab_type": "code",
    "id": "vbnkGUQzMjkD"
   },
   "outputs": [],
   "source": [
    "def return_r2(X, Y, model):\n",
    "  '''\n",
    "  X : independent variables\n",
    "  Y : target variable\n",
    "  model : predictive model\n",
    "\n",
    "  Returns: Adjusted R2 corresponding to the model\n",
    "  '''\n",
    "  model.fit(X, Y)\n",
    "  pred = model.predict(X)\n",
    "  m = len(X.columns)\n",
    "  r2 = adj_r2(m, Y, pred)\n",
    "  return r2"
   ]
  },
  {
   "cell_type": "code",
   "execution_count": 17,
   "metadata": {
    "colab": {},
    "colab_type": "code",
    "id": "_uSHSBh8BkoF"
   },
   "outputs": [],
   "source": [
    "def backward_elimination( model, X, Y, min_features):\n",
    "  '''\n",
    "  X : independent variables\n",
    "  Y : target variable\n",
    "  model : predictive model\n",
    "  min_features : eliminate worst features until only min_features are left\n",
    "\n",
    "  Returns: \n",
    "  Rmax : Adjusted R2 of the final model\n",
    "  history : list of Rmax at every new independent variable added to the model\n",
    "  x[f_col] : best features upto max_features\n",
    "  '''\n",
    "  elim_data = X[:]\n",
    "  r2_history = []\n",
    "  base_r2 = return_r2(elim_data, Y, model)\n",
    "  print(\"base_r2 is\", base_r2)\n",
    "\n",
    "\n",
    "  for i in range(X.shape[1] - min_features):\n",
    "  \n",
    "    difference = -100\n",
    "\n",
    "    for var in elim_data.columns:\n",
    "      tmp = elim_data.drop(columns = [var])\n",
    "      r2 = return_r2(tmp, Y, model)\n",
    "\n",
    "      if (r2 - base_r2) > difference:\n",
    "        difference = r2 - base_r2\n",
    "        eliminate = var\n",
    "        new_r2 = r2\n",
    "  \n",
    "    elim_data.drop(columns = [eliminate], inplace = True)\n",
    "    r2_history.append(new_r2)\n",
    "    print(eliminate,\"Eliminated : New adj_r2 = \",new_r2,)\n",
    "    base_r2 = new_r2\n",
    "\n",
    "  return base_r2, r2_history, elim_data"
   ]
  },
  {
   "cell_type": "code",
   "execution_count": 18,
   "metadata": {
    "colab": {
     "base_uri": "https://localhost:8080/",
     "height": 527
    },
    "colab_type": "code",
    "executionInfo": {
     "elapsed": 18674,
     "status": "ok",
     "timestamp": 1573107377952,
     "user": {
      "displayName": "Sharoon Saxena",
      "photoUrl": "https://lh3.googleusercontent.com/a-/AAuE7mA06b2KEfgpAIC1tQCip2ka2KqXrCY2GfWW9Fww=s64",
      "userId": "01167841530696023488"
     },
     "user_tz": -330
    },
    "id": "0uEVEkMnEPmE",
    "outputId": "8097fcbd-d2f9-4b0a-cf05-61a065bd174d"
   },
   "outputs": [
    {
     "name": "stdout",
     "output_type": "stream",
     "text": [
      "base_r2 is 0.8411713183817104\n",
      "Area of the House from Basement (in Sqft) Eliminated : New adj_r2 =  0.841179744665843\n",
      "Condition_of_the_House_Okay Eliminated : New adj_r2 =  0.8411623663620638\n",
      "No of Floors Eliminated : New adj_r2 =  0.8411171250786783\n",
      "Lot Area after Renovation (in Sqft) Eliminated : New adj_r2 =  0.8410610037918913\n",
      "No of Bedrooms Eliminated : New adj_r2 =  0.8409159992800564\n",
      "Condition_of_the_House_Fair Eliminated : New adj_r2 =  0.8407704362899259\n",
      "Condition_of_the_House_Good Eliminated : New adj_r2 =  0.8404605503169835\n",
      "Years Since Renovation Eliminated : New adj_r2 =  0.8399491254999182\n",
      "Ever_Renovated_Yes Eliminated : New adj_r2 =  0.8394089149738742\n",
      "No of Bathrooms Eliminated : New adj_r2 =  0.8384257980145959\n",
      "Living Area after Renovation (in Sqft) Eliminated : New adj_r2 =  0.8371253089016228\n",
      "Waterfront_View_Yes Eliminated : New adj_r2 =  0.8356698063157927\n",
      "Zipcode_Group_Zipcode_Group_1 Eliminated : New adj_r2 =  0.8339600690154836\n",
      "Lot Area (in Sqft) Eliminated : New adj_r2 =  0.8318506623682476\n",
      "Condition_of_the_House_Excellent Eliminated : New adj_r2 =  0.8295620645811876\n",
      "Basement Area (in Sqft) Eliminated : New adj_r2 =  0.8266049066242157\n",
      "Longitude Eliminated : New adj_r2 =  0.8242921707826699\n",
      "Zipcode_Group_Zipcode_Group_2 Eliminated : New adj_r2 =  0.8192910381878411\n",
      "Zipcode_Group_Zipcode_Group_9 Eliminated : New adj_r2 =  0.813501372362812\n",
      "Age of House (in Years) Eliminated : New adj_r2 =  0.7999680310309634\n",
      "Zipcode_Group_Zipcode_Group_5 Eliminated : New adj_r2 =  0.7819399099884954\n",
      "Zipcode_Group_Zipcode_Group_3 Eliminated : New adj_r2 =  0.770302160770225\n",
      "Zipcode_Group_Zipcode_Group_4 Eliminated : New adj_r2 =  0.7580319410320749\n",
      "Zipcode_Group_Zipcode_Group_7 Eliminated : New adj_r2 =  0.745451210409211\n",
      "Zipcode_Group_Zipcode_Group_6 Eliminated : New adj_r2 =  0.7245993616828927\n",
      "No of Times Visited Eliminated : New adj_r2 =  0.7001983572378965\n",
      "Zipcode_Group_Zipcode_Group_8 Eliminated : New adj_r2 =  0.669325084451791\n",
      "Overall Grade Eliminated : New adj_r2 =  0.6158682713046579\n",
      "Latitude Eliminated : New adj_r2 =  0.4825106645259518\n"
     ]
    }
   ],
   "source": [
    "from sklearn.linear_model import LinearRegression\n",
    "lr = LinearRegression(normalize = True)\n",
    "\n",
    "score , history, survided_data = backward_elimination(lr, x_train, y_train, 1)"
   ]
  },
  {
   "cell_type": "code",
   "execution_count": 19,
   "metadata": {
    "colab": {
     "base_uri": "https://localhost:8080/",
     "height": 510
    },
    "colab_type": "code",
    "executionInfo": {
     "elapsed": 18595,
     "status": "ok",
     "timestamp": 1573107377953,
     "user": {
      "displayName": "Sharoon Saxena",
      "photoUrl": "https://lh3.googleusercontent.com/a-/AAuE7mA06b2KEfgpAIC1tQCip2ka2KqXrCY2GfWW9Fww=s64",
      "userId": "01167841530696023488"
     },
     "user_tz": -330
    },
    "id": "0tIS_FinFgVb",
    "outputId": "3390a6b1-b2fc-4067-9263-cf6892d1d92c"
   },
   "outputs": [
    {
     "data": {
      "text/plain": [
       "[0.841179744665843,\n",
       " 0.8411623663620638,\n",
       " 0.8411171250786783,\n",
       " 0.8410610037918913,\n",
       " 0.8409159992800564,\n",
       " 0.8407704362899259,\n",
       " 0.8404605503169835,\n",
       " 0.8399491254999182,\n",
       " 0.8394089149738742,\n",
       " 0.8384257980145959,\n",
       " 0.8371253089016228,\n",
       " 0.8356698063157927,\n",
       " 0.8339600690154836,\n",
       " 0.8318506623682476,\n",
       " 0.8295620645811876,\n",
       " 0.8266049066242157,\n",
       " 0.8242921707826699,\n",
       " 0.8192910381878411,\n",
       " 0.813501372362812,\n",
       " 0.7999680310309634,\n",
       " 0.7819399099884954,\n",
       " 0.770302160770225,\n",
       " 0.7580319410320749,\n",
       " 0.745451210409211,\n",
       " 0.7245993616828927,\n",
       " 0.7001983572378965,\n",
       " 0.669325084451791,\n",
       " 0.6158682713046579,\n",
       " 0.4825106645259518]"
      ]
     },
     "execution_count": 19,
     "metadata": {},
     "output_type": "execute_result"
    }
   ],
   "source": [
    "history"
   ]
  },
  {
   "cell_type": "code",
   "execution_count": 20,
   "metadata": {
    "colab": {
     "base_uri": "https://localhost:8080/",
     "height": 724
    },
    "colab_type": "code",
    "executionInfo": {
     "elapsed": 1712,
     "status": "ok",
     "timestamp": 1573107621876,
     "user": {
      "displayName": "Sharoon Saxena",
      "photoUrl": "https://lh3.googleusercontent.com/a-/AAuE7mA06b2KEfgpAIC1tQCip2ka2KqXrCY2GfWW9Fww=s64",
      "userId": "01167841530696023488"
     },
     "user_tz": -330
    },
    "id": "XEQTTYGoZZni",
    "outputId": "41829730-979f-4eef-ecd0-e7274025e2a1"
   },
   "outputs": [
    {
     "data": {
      "text/plain": [
       "Text(0.5, 1.0, 'Backward Elimination')"
      ]
     },
     "execution_count": 20,
     "metadata": {},
     "output_type": "execute_result"
    },
    {
     "data": {
      "image/png": "[encoded data removed]",
      "text/plain": [
       "<Figure size 750x750 with 1 Axes>"
      ]
     },
     "metadata": {},
     "output_type": "display_data"
    }
   ],
   "source": [
    "plt.figure(figsize = (5,5), dpi = 150)\n",
    "plt.plot(range(len(history),0,-1), history, color = 'red')\n",
    "plt.xlabel('remaining features')\n",
    "plt.ylabel('adj-R2 Score')\n",
    "#plt.yticks([z/100 for z in range()])\n",
    "plt.title('Backward Elimination')"
   ]
  },
  {
   "cell_type": "code",
   "execution_count": null,
   "metadata": {
    "colab": {},
    "colab_type": "code",
    "id": "nwQM5_EdiS9E"
   },
   "outputs": [],
   "source": []
  }
 ],
 "metadata": {
  "colab": {
   "collapsed_sections": [],
   "machine_shape": "hm",
   "name": "Backward/Forward selection.ipynb",
   "provenance": [],
   "toc_visible": true
  },
  "kernelspec": {
   "display_name": "Python 3 (ipykernel)",
   "language": "python",
   "name": "python3"
  },
  "language_info": {
   "codemirror_mode": {
    "name": "ipython",
    "version": 3
   },
   "file_extension": ".py",
   "mimetype": "text/x-python",
   "name": "python",
   "nbconvert_exporter": "python",
   "pygments_lexer": "ipython3",
   "version": "3.9.13"
  }
 },
 "nbformat": 4,
 "nbformat_minor": 1
}
