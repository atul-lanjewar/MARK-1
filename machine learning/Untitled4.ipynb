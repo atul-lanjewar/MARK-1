{
 "cells": [
  {
   "cell_type": "code",
   "execution_count": 2,
   "id": "0bdba17f",
   "metadata": {},
   "outputs": [
    {
     "name": "stdout",
     "output_type": "stream",
     "text": [
      "cook\n"
     ]
    }
   ],
   "source": [
    "i=\"late\"\n",
    "if(i==\"late\"):\n",
    "    print(\"cook\")\n",
    "else:\n",
    "    print(\"order\")"
   ]
  },
  {
   "cell_type": "code",
   "execution_count": 5,
   "id": "f97396d7",
   "metadata": {},
   "outputs": [
    {
     "name": "stdout",
     "output_type": "stream",
     "text": [
      "late\n"
     ]
    }
   ],
   "source": [
    "i=\"early\"\n",
    "if(i==\"late\"):\n",
    "    print(\"cook\")\n",
    "else:\n",
    "    print(\"late\")"
   ]
  },
  {
   "cell_type": "code",
   "execution_count": 6,
   "id": "fcc1af35",
   "metadata": {},
   "outputs": [
    {
     "name": "stdout",
     "output_type": "stream",
     "text": [
      "avg\n"
     ]
    }
   ],
   "source": [
    "K=89\n",
    "if(K>=90):\n",
    "    print(\"good\")\n",
    "elif(K>=60):\n",
    "    print(\"avg\")\n",
    "else:\n",
    "    print(\"bad\")"
   ]
  },
  {
   "cell_type": "code",
   "execution_count": 8,
   "id": "45de3449",
   "metadata": {},
   "outputs": [
    {
     "name": "stdout",
     "output_type": "stream",
     "text": [
      "odd,greater than 50\n"
     ]
    }
   ],
   "source": [
    "num=89\n",
    "if(num>=50):\n",
    "    if(num%2==0):\n",
    "        print(\"even and greater than 50\")\n",
    "    else:\n",
    "        print(\"odd,greater than 50\")\n",
    "        \n",
    "else:\n",
    "    if(num%2==0):\n",
    "        print(\"even, not greater than 50\")\n",
    "    else:\n",
    "        print(\"odd,not greater than 50\")"
   ]
  },
  {
   "cell_type": "code",
   "execution_count": 10,
   "id": "98a1edd1",
   "metadata": {},
   "outputs": [
    {
     "name": "stdout",
     "output_type": "stream",
     "text": [
      "ML is awesome!\n",
      "ML is awesome!\n",
      "ML is awesome!\n",
      "ML is awesome!\n",
      "ML is awesome!\n"
     ]
    }
   ],
   "source": [
    "for i in range(0,1000,200):\n",
    "    print(\"ML is awesome!\")"
   ]
  },
  {
   "cell_type": "code",
   "execution_count": 11,
   "id": "97170a48",
   "metadata": {},
   "outputs": [
    {
     "name": "stdout",
     "output_type": "stream",
     "text": [
      "3628800\n"
     ]
    }
   ],
   "source": [
    "fact=1\n",
    "for i in range(1,11):\n",
    "    fact=fact*i\n",
    "    \n",
    "print(fact)    "
   ]
  },
  {
   "cell_type": "code",
   "execution_count": 12,
   "id": "f09634f7",
   "metadata": {},
   "outputs": [],
   "source": [
    "import pandas as pd \n",
    "import numpy as np\n",
    "import matplotlib.pyplot as plt"
   ]
  },
  {
   "cell_type": "code",
   "execution_count": 13,
   "id": "fc52c363",
   "metadata": {},
   "outputs": [
    {
     "data": {
      "text/plain": [
       "55"
      ]
     },
     "execution_count": 13,
     "metadata": {},
     "output_type": "execute_result"
    }
   ],
   "source": [
    "array=[1,2,3,4,5,6,7,8,9,10]\n",
    "np.sum(array)"
   ]
  },
  {
   "cell_type": "code",
   "execution_count": 14,
   "id": "1ec97de6",
   "metadata": {},
   "outputs": [
    {
     "data": {
      "text/plain": [
       "10"
      ]
     },
     "execution_count": 14,
     "metadata": {},
     "output_type": "execute_result"
    }
   ],
   "source": [
    "np.max(array)"
   ]
  },
  {
   "cell_type": "code",
   "execution_count": 15,
   "id": "e4a7d84e",
   "metadata": {},
   "outputs": [
    {
     "data": {
      "text/plain": [
       "1"
      ]
     },
     "execution_count": 15,
     "metadata": {},
     "output_type": "execute_result"
    }
   ],
   "source": [
    "np.min(array)"
   ]
  },
  {
   "cell_type": "code",
   "execution_count": 16,
   "id": "af067ae4",
   "metadata": {},
   "outputs": [
    {
     "name": "stdout",
     "output_type": "stream",
     "text": [
      "210.0\n"
     ]
    }
   ],
   "source": [
    "n=10\n",
    "r=6\n",
    "\n",
    "fact_n=1\n",
    "for i in range(1,n+1):\n",
    "    fact_n=fact_n*i\n",
    "    \n",
    "fact_r=1\n",
    "for i in range(1,r+1):\n",
    "    fact_r=fact_r*i\n",
    "    \n",
    "fact_n_r=1\n",
    "for i in range(1,(n-r)+1):\n",
    "    fact_n_r=fact_n_r*i\n",
    "    \n",
    "C=fact_n/(fact_r*fact_n_r)\n",
    "print(C)\n",
    "    "
   ]
  },
  {
   "cell_type": "code",
   "execution_count": 22,
   "id": "5bb22c2c",
   "metadata": {},
   "outputs": [
    {
     "name": "stdout",
     "output_type": "stream",
     "text": [
      "210.0\n"
     ]
    }
   ],
   "source": [
    "def factorial(value):\n",
    "    fact=1\n",
    "    for i in range(1,value+1):\n",
    "        fact=fact*i\n",
    "    return fact\n",
    "    \n",
    "n=10\n",
    "r=6    \n",
    "    \n",
    "C=factorial(n)/(factorial(r)*factorial(n-r))\n",
    "print(C)"
   ]
  },
  {
   "cell_type": "code",
   "execution_count": null,
   "id": "c4773947",
   "metadata": {},
   "outputs": [],
   "source": []
  }
 ],
 "metadata": {
  "kernelspec": {
   "display_name": "Python 3 (ipykernel)",
   "language": "python",
   "name": "python3"
  },
  "language_info": {
   "codemirror_mode": {
    "name": "ipython",
    "version": 3
   },
   "file_extension": ".py",
   "mimetype": "text/x-python",
   "name": "python",
   "nbconvert_exporter": "python",
   "pygments_lexer": "ipython3",
   "version": "3.9.13"
  }
 },
 "nbformat": 4,
 "nbformat_minor": 5
}
